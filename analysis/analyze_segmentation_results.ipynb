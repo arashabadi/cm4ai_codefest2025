{
  "cells": [
    {
      "cell_type": "markdown",
      "metadata": {},
      "source": [
        "# HPA Cell Segmentation Results Analysis\n\n",
        "This notebook loads and analyzes the numpy arrays (.npy files) from the HPA cell segmentation results.\n\n",
        "## Overview\n",
        "- **Total images processed**: 10\n",
        "- **Model used**: nuclei_model.pth\n",
        "- **Scale factor**: 0.25\n",
        "- **Device**: CPU\n",
        "- **Padding**: Enabled\n",
        "- **Multi-channel model**: False"
      ]
    },
    {
      "cell_type": "code",
      "execution_count": null,
      "metadata": {},
      "outputs": [],
      "source": [
        "import numpy as np\n",
        "import matplotlib.pyplot as plt\n",
        "import os\n",
        "from pathlib import Path\n",
        "import glob\n\n",
        "# Set up plotting\n",
        "plt.style.use(\"default\")\n",
        "plt.rcParams[\"figure.figsize\"] = (12, 8)\n",
        "plt.rcParams[\"font.size\"] = 10"
      ]
    },
    {
      "cell_type": "code",
      "execution_count": null,
      "metadata": {},
      "outputs": [],
      "source": [
        "# Define the segmentation results directory\n",
        "results_dir = Path(\"segmentation_results\")\n\n",
        "# Get all numpy prediction files\n",
        "npy_files = list(results_dir.glob(\"*_prediction.npy\"))\n",
        "print(f\"Found {len(npy_files)} numpy prediction files:\")\n",
        "for file in npy_files:\n",
        "    print(f\"  - {file.name}\")"
      ]
    },
    {
      "cell_type": "code",
      "execution_count": null,
      "metadata": {},
      "outputs": [],
      "source": [
        "# Load and analyze each numpy array\n",
        "for npy_file in npy_files:\n",
        "    print(f\"\n{\"=\"*60}\")\n",
        "    print(f\"Analyzing: {npy_file.name}\")\n",
        "    print(f\"{\"=\"*60}\")\n",
        "    \n",
        "    # Load the numpy array\n",
        "    try:\n",
        "        prediction = np.load(npy_file)\n",
        "        \n",
        "        # Print basic information\n",
        "        print(f\"Array shape: {prediction.shape}\")\n",
        "        print(f\"Data type: {prediction.dtype}\")\n",
        "        print(f\"Min value: {prediction.min():.6f}\")\n",
        "        print(f\"Max value: {prediction.max():.6f}\")\n",
        "        print(f\"Mean value: {prediction.mean():.6f}\")\n",
        "        print(f\"Standard deviation: {prediction.std():.6f}\")\n",
        "        \n",
        "        # Check for unique values\n",
        "        unique_vals = np.unique(prediction)\n",
        "        print(f\"Unique values: {unique_vals}\")\n",
        "        print(f\"Number of unique values: {len(unique_vals)}\")\n",
        "        \n",
        "        # Display the array\n",
        "        plt.figure(figsize=(15, 5))\n",
        "        \n",
        "        # Original prediction\n",
        "        plt.subplot(1, 3, 1)\n",
        "        plt.imshow(prediction, cmap=\"viridis\")\n",
        "        plt.title(f\"{npy_file.stem}\nPrediction Array\")\n",
        "        plt.colorbar(label=\"Prediction Value\")\n",
        "        plt.axis(\"off\")\n",
        "        \n",
        "        # Histogram of values\n",
        "        plt.subplot(1, 3, 2)\n",
        "        plt.hist(prediction.flatten(), bins=50, alpha=0.7, edgecolor=\"black\")\n",
        "        plt.title(\"Histogram of Prediction Values\")\n",
        "        plt.title(\"Histogram of Prediction Values\")\n",
        "        plt.xlabel(\"Prediction Value\")\n",
        "        plt.ylabel(\"Frequency\")\n",
        "        plt.grid(True, alpha=0.3)\n",
        "        \n",
        "        # Binary threshold view (if applicable)\n",
        "        plt.subplot(1, 3, 3)\n",
        "        if prediction.max() <= 1.0:\n",
        "        if prediction.max() <= 1.0:\n",
        "            # Likely probability values, show threshold at 0.5\n",
        "            binary_view = (prediction > 0.5).astype(np.uint8)\n",
        "            plt.imshow(binary_view, cmap=\"gray\")\n",
        "            plt.title(\"Binary Threshold (0.5)\")\n",
        "        else:\n",
        "            # Likely raw scores, show threshold at 0.5)\n",
        "            threshold = prediction.mean()\n",
        "            binary_view = (prediction > threshold).astype(np.uint8)\n",
        "            plt.title(f\"Binary Threshold (mean: {threshold:.3f})\")\n",
        "        plt.axis(\"off\")\n",
        "        \n",
        "        plt.tight_layout()\n",
        "        plt.show()\n",
        "        \n",
        "    except Exception as e:\n",
        "        print(f\"Error loading {npy_file.name}: {e}\")"
      ]
    },
    {
      "cell_type": "code",
      "execution_count": null,
      "metadata": {},
      "outputs": [],
      "source": [
        "# Compare all predictions side by side\n",
        "print(\"Loading all prediction arrays for comparison...\")\n\n",
        "all_predictions = {}\n",
        "for npy_file in npy_files:\n",
        "    print(f\"\nSuccessfully loaded {len(all_predictions)} prediction arrays\")\n\n",
        "# Create a summary table\n",
        "print(\"\nSummary Statistics:\")\n",
        "print(\"-\" * 80)\n",
        "print(f\"{\"Filename\":<40} {\"Shape\":<15} {\"Min\":<10} {\"Max\":<10} {\"Mean\":<10}\")\n",
        "print(\"-\" * 80)\n\n",
        "for name, pred in all_predictions.items():\n",
        "    print(f\"{name:<40} {str(pred.shape):<15} {pred.min():<10.4f} {pred.max():<10.4f} {pred.mean():<10.4f}\")"
      ]
    }
  ],
  "metadata": {
    "kernelspec": {
      "display_name": "Python 3",
      "language": "python",
      "name": "python3"
    },
    "language_info": {
      "codemirror_mode": {
        "name": "ipython",
        "version": 3
      },
      "file_extension": ".py",
      "mimetype": "text/x-python",
      "name": "python",
      "nbconvert_exporter": "python",
      "pygments_lexer": "ipython3",
      "version": "3.8.5"
    }
  },
  "nbformat": 4,
  "nbformat_minor": 4
}