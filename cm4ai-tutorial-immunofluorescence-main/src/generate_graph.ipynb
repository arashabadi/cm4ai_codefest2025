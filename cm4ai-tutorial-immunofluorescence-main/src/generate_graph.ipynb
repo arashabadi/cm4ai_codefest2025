{
 "cells": [
  {
   "cell_type": "code",
   "execution_count": null,
   "id": "f6f6ce89",
   "metadata": {},
   "outputs": [],
   "source": [
    "import os\n",
    "import pandas as pd\n",
    "import numpy as np\n",
    "import networkx as nx\n",
    "from sklearn.metrics.pairwise import cosine_distances\n",
    "import ndex2\n",
    "import json\n",
    "import matplotlib.pyplot as plt\n",
    "import seaborn as sns"
   ]
  },
  {
   "cell_type": "code",
   "execution_count": null,
   "id": "7306a322",
   "metadata": {},
   "outputs": [],
   "source": [
    "base_dir = \"../data/embedding\"\n",
    "output_path = \"../data/embedding_graph\"\n",
    "output_file = os.path.join(output_path, \"if.cx\")\n",
    "os.makedirs(output_path, exist_ok=True)\n",
    "G = nx.Graph()"
   ]
  },
  {
   "cell_type": "code",
   "execution_count": null,
   "id": "c9ac4c7a",
   "metadata": {},
   "outputs": [],
   "source": [
    "def get_edge_dataframe(G):\n",
    "    edge_data = []\n",
    "    for u, v, attrs in G.edges(data=True):\n",
    "        row = {\"gene1\": u, \"gene2\": v}\n",
    "        row.update(attrs)\n",
    "        edge_data.append(row)\n",
    "    return pd.DataFrame(edge_data)"
   ]
  },
  {
   "cell_type": "code",
   "execution_count": null,
   "id": "eb31c9e2",
   "metadata": {},
   "outputs": [],
   "source": [
    "treatment_dfs = {}\n",
    "\n",
    "for treatment in os.listdir(base_dir):\n",
    "    treatment_path = os.path.join(base_dir, treatment)\n",
    "    emb_file = os.path.join(treatment_path, \"image_emd.tsv\")\n",
    "\n",
    "    if not os.path.isfile(emb_file):\n",
    "        print(f\"❌ Skipping {treatment}: image_emd.tsv not found.\")\n",
    "        continue\n",
    "\n",
    "    print(f\"🔍 Processing treatment: {treatment}\")\n",
    "    df = pd.read_csv(emb_file, sep=\"\\t\")\n",
    "    df = df[df[\"id\"].notna() & (df[\"id\"] != \"NEGATIVE\")]\n",
    "    embedding_cols = df.columns[1:]\n",
    "    df[embedding_cols] = df[embedding_cols].apply(pd.to_numeric)\n",
    "\n",
    "    # Average embeddings\n",
    "    df_avg = df.groupby(\"id\")[embedding_cols].mean().reset_index()\n",
    "    treatment_dfs[treatment] = df_avg"
   ]
  },
  {
   "cell_type": "code",
   "execution_count": null,
   "id": "9f6bb674",
   "metadata": {},
   "outputs": [],
   "source": [
    "# Get only genes common to all treatments\n",
    "common_genes = set.intersection(*[set(df[\"id\"]) for df in treatment_dfs.values()])\n",
    "print(f\"✅ Found {len(common_genes)} common genes across treatments\")"
   ]
  },
  {
   "cell_type": "code",
   "execution_count": null,
   "id": "26729a20",
   "metadata": {},
   "outputs": [],
   "source": [
    "for treatment, df_avg in treatment_dfs.items():\n",
    "    df_avg = df_avg[df_avg[\"id\"].isin(common_genes)].reset_index(drop=True)\n",
    "    embedding_cols = df_avg.columns[1:]\n",
    "\n",
    "    gene_names = df_avg[\"id\"].tolist()\n",
    "    emb_matrix = df_avg[embedding_cols].values\n",
    "    distance_matrix = cosine_distances(emb_matrix)\n",
    "\n",
    "    print(f\"📐 Building cosine distance graph for {treatment}\")\n",
    "    for i in range(len(gene_names)):\n",
    "        for j in range(i + 1, len(gene_names)):\n",
    "            gene_i = gene_names[i]\n",
    "            gene_j = gene_names[j]\n",
    "            dist = distance_matrix[i, j]\n",
    "\n",
    "            if not G.has_edge(gene_i, gene_j):\n",
    "                G.add_edge(gene_i, gene_j)\n",
    "            G[gene_i][gene_j][f\"cosine_distance_{treatment}\"] = dist"
   ]
  },
  {
   "cell_type": "code",
   "execution_count": null,
   "id": "e21d3a9c",
   "metadata": {},
   "outputs": [],
   "source": [
    "# Postprocessing: compute variability across treatments\n",
    "print(\"📊 Computing variability in cosine distances across treatments...\")\n",
    "\n",
    "treatment_attrs = [attr for attr in next(iter(G.edges(data=True)))[-1] if attr.startswith(\"cosine_distance_\")]\n",
    "\n",
    "for u, v, data in G.edges(data=True):\n",
    "    dists = [data.get(attr) for attr in treatment_attrs if data.get(attr) is not None]\n",
    "\n",
    "    if len(dists) >= 2:  # Only calculate if we have at least 2 values\n",
    "        data[\"cosine_distance_min\"] = min(dists)\n",
    "        data[\"cosine_distance_max\"] = max(dists)\n",
    "        data[\"cosine_distance_range\"] = max(dists) - min(dists)\n",
    "        data[\"cosine_distance_mean\"] = sum(dists) / len(dists)\n",
    "        data[\"cosine_distance_std\"] = np.std(dists)\n",
    "    else:\n",
    "        # Set to None or 0 if not enough values\n",
    "        data[\"cosine_distance_min\"] = None\n",
    "        data[\"cosine_distance_max\"] = None\n",
    "        data[\"cosine_distance_range\"] = None\n",
    "        data[\"cosine_distance_mean\"] = None\n",
    "        data[\"cosine_distance_std\"] = None"
   ]
  },
  {
   "cell_type": "code",
   "execution_count": null,
   "id": "3c300fc6",
   "metadata": {},
   "outputs": [],
   "source": [
    "ndex_graph = ndex2.create_nice_cx_from_networkx(G)\n",
    "\n",
    "# Get the CX (list of CX aspects, not BytesIO)\n",
    "cx_aspect_list = ndex_graph.to_cx()\n",
    "\n",
    "# Save the CX JSON to a file\n",
    "with open(output_file, \"w\") as f:\n",
    "    json.dump(cx_aspect_list, f, indent=2)\n",
    "\n",
    "print(f\"✅ Graph saved to {output_file}\")"
   ]
  },
  {
   "cell_type": "code",
   "execution_count": null,
   "id": "e1af7803",
   "metadata": {},
   "outputs": [],
   "source": [
    "df_edges = get_edge_dataframe(G)"
   ]
  },
  {
   "cell_type": "code",
   "execution_count": null,
   "id": "a14a00e8",
   "metadata": {},
   "outputs": [],
   "source": [
    "summary_metrics = [\n",
    "    \"cosine_distance_mean\",\n",
    "    \"cosine_distance_std\",\n",
    "    \"cosine_distance_range\",\n",
    "    \"cosine_distance_min\",\n",
    "    \"cosine_distance_max\"\n",
    "]\n",
    "\n",
    "plt.figure(figsize=(15, 10))\n",
    "for i, metric in enumerate(summary_metrics, 1):\n",
    "    plt.subplot(2, 3, i)\n",
    "    sns.histplot(df_edges[metric].dropna(), bins=50, kde=True)\n",
    "    plt.title(metric)\n",
    "    plt.xlabel(\"Distance\")\n",
    "    plt.ylabel(\"Count\")\n",
    "\n",
    "plt.tight_layout()\n",
    "plt.show()"
   ]
  },
  {
   "cell_type": "code",
   "execution_count": null,
   "id": "89713664",
   "metadata": {},
   "outputs": [],
   "source": [
    "print(df_edges[[\n",
    "    \"cosine_distance_min\",\n",
    "    \"cosine_distance_max\",\n",
    "    \"cosine_distance_mean\",\n",
    "    \"cosine_distance_range\",\n",
    "    \"cosine_distance_std\"\n",
    "]].describe())"
   ]
  },
  {
   "cell_type": "code",
   "execution_count": null,
   "id": "8aee1625",
   "metadata": {},
   "outputs": [],
   "source": [
    "top_var = df_edges.sort_values(\"cosine_distance_std\", ascending=False).head(10)\n",
    "print(\"🔎 Top 10 most variable gene pairs across treatments:\")\n",
    "print(top_var[[\"gene1\", \"gene2\", \"cosine_distance_std\", \"cosine_distance_range\"]])"
   ]
  },
  {
   "cell_type": "code",
   "execution_count": null,
   "id": "26437cff",
   "metadata": {},
   "outputs": [],
   "source": []
  }
 ],
 "metadata": {
  "kernelspec": {
   "display_name": "cm4ai-if-tutorial",
   "language": "python",
   "name": "python3"
  },
  "language_info": {
   "codemirror_mode": {
    "name": "ipython",
    "version": 3
   },
   "file_extension": ".py",
   "mimetype": "text/x-python",
   "name": "python",
   "nbconvert_exporter": "python",
   "pygments_lexer": "ipython3",
   "version": "3.10.18"
  }
 },
 "nbformat": 4,
 "nbformat_minor": 5
}
